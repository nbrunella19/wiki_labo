{
  "nbformat": 4,
  "nbformat_minor": 0,
  "metadata": {
    "colab": {
      "name": "graficacion.ipynb",
      "provenance": []
    },
    "kernelspec": {
      "name": "python3",
      "display_name": "Python 3"
    },
    "language_info": {
      "name": "python"
    }
  },
  "cells": [
    {
      "cell_type": "code",
      "execution_count": null,
      "metadata": {
        "id": "YSsYuaypegQM"
      },
      "outputs": [],
      "source": [
        ""
      ]
    },
    {
      "cell_type": "markdown",
      "source": [
        "# Gráficos\n",
        "\n",
        "Este notebook tiene por idea acumular conocimientos de diferentes opciones de graficación.\n",
        "\n",
        "\n",
        "## Python\n",
        "\n",
        "## Inkscape\n",
        "\n",
        "Editor abierto de lo mejor.\n",
        "\n",
        "Podés incluir $LaTeX $ directo usando la extensión [TexTex](https://inkscape.org/~jcwinkler/%E2%98%85textext)"
      ],
      "metadata": {
        "id": "Egi8ONKMei5b"
      }
    }
  ]
}